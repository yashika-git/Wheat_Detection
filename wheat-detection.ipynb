{
 "cells": [
  {
   "cell_type": "code",
   "execution_count": 1,
   "id": "e58adf67",
   "metadata": {
    "_cell_guid": "b1076dfc-b9ad-4769-8c92-a6c4dae69d19",
    "_uuid": "8f2839f25d086af736a60e9eeb907d3b93b6e0e5",
    "execution": {
     "iopub.execute_input": "2022-02-06T19:40:24.142334Z",
     "iopub.status.busy": "2022-02-06T19:40:24.141821Z",
     "iopub.status.idle": "2022-02-06T19:40:24.145335Z",
     "shell.execute_reply": "2022-02-06T19:40:24.144746Z",
     "shell.execute_reply.started": "2022-02-06T19:31:39.565780Z"
    },
    "papermill": {
     "duration": 0.027494,
     "end_time": "2022-02-06T19:40:24.145500",
     "exception": false,
     "start_time": "2022-02-06T19:40:24.118006",
     "status": "completed"
    },
    "tags": []
   },
   "outputs": [],
   "source": [
    "import numpy as np\n",
    "import pandas as pd\n",
    "import os\n",
    "import os\n",
    "# for dirname, _, filenames in os.walk('/kaggle/input'):\n",
    "#     for filename in filenames:\n",
    "#         print(os.path.join(dirname, filename))"
   ]
  },
  {
   "cell_type": "code",
   "execution_count": 2,
   "id": "a1377cd5",
   "metadata": {
    "execution": {
     "iopub.execute_input": "2022-02-06T19:40:24.182224Z",
     "iopub.status.busy": "2022-02-06T19:40:24.181606Z",
     "iopub.status.idle": "2022-02-06T19:40:25.965457Z",
     "shell.execute_reply": "2022-02-06T19:40:25.964814Z",
     "shell.execute_reply.started": "2022-02-06T19:31:39.598028Z"
    },
    "papermill": {
     "duration": 1.803906,
     "end_time": "2022-02-06T19:40:25.965590",
     "exception": false,
     "start_time": "2022-02-06T19:40:24.161684",
     "status": "completed"
    },
    "tags": []
   },
   "outputs": [],
   "source": [
    "import cv2\n",
    "import os\n",
    "import re\n",
    "import torch\n",
    "import torchvision\n",
    "from torchvision import transforms\n",
    "from torchvision.models.detection.faster_rcnn import FastRCNNPredictor\n",
    "from torchvision.models.detection import FasterRCNN\n",
    "#from torchvision.models.detection import AnchorGenerator\n",
    "from torch.utils.data import DataLoader, Dataset\n",
    "from torch.utils.data.sampler import SequentialSampler\n",
    "from matplotlib import pyplot as plt"
   ]
  },
  {
   "cell_type": "code",
   "execution_count": 3,
   "id": "f64ae16a",
   "metadata": {
    "execution": {
     "iopub.execute_input": "2022-02-06T19:40:26.003646Z",
     "iopub.status.busy": "2022-02-06T19:40:26.002829Z",
     "iopub.status.idle": "2022-02-06T19:40:26.241851Z",
     "shell.execute_reply": "2022-02-06T19:40:26.242484Z",
     "shell.execute_reply.started": "2022-02-06T19:31:41.287258Z"
    },
    "papermill": {
     "duration": 0.261304,
     "end_time": "2022-02-06T19:40:26.242689",
     "exception": false,
     "start_time": "2022-02-06T19:40:25.981385",
     "status": "completed"
    },
    "tags": []
   },
   "outputs": [],
   "source": [
    "train_df = pd.read_csv(\"/kaggle/input/global-wheat-detection/train.csv\")\n",
    "submit = pd.read_csv(\"/kaggle/input/global-wheat-detection/sample_submission.csv\")\n"
   ]
  },
  {
   "cell_type": "code",
   "execution_count": 4,
   "id": "df5f06f4",
   "metadata": {
    "execution": {
     "iopub.execute_input": "2022-02-06T19:40:26.300315Z",
     "iopub.status.busy": "2022-02-06T19:40:26.299569Z",
     "iopub.status.idle": "2022-02-06T19:40:26.320016Z",
     "shell.execute_reply": "2022-02-06T19:40:26.320570Z",
     "shell.execute_reply.started": "2022-02-06T19:31:41.608652Z"
    },
    "papermill": {
     "duration": 0.053564,
     "end_time": "2022-02-06T19:40:26.320752",
     "exception": false,
     "start_time": "2022-02-06T19:40:26.267188",
     "status": "completed"
    },
    "tags": []
   },
   "outputs": [
    {
     "data": {
      "text/html": [
       "<div>\n",
       "<style scoped>\n",
       "    .dataframe tbody tr th:only-of-type {\n",
       "        vertical-align: middle;\n",
       "    }\n",
       "\n",
       "    .dataframe tbody tr th {\n",
       "        vertical-align: top;\n",
       "    }\n",
       "\n",
       "    .dataframe thead th {\n",
       "        text-align: right;\n",
       "    }\n",
       "</style>\n",
       "<table border=\"1\" class=\"dataframe\">\n",
       "  <thead>\n",
       "    <tr style=\"text-align: right;\">\n",
       "      <th></th>\n",
       "      <th>image_id</th>\n",
       "      <th>width</th>\n",
       "      <th>height</th>\n",
       "      <th>bbox</th>\n",
       "      <th>source</th>\n",
       "    </tr>\n",
       "  </thead>\n",
       "  <tbody>\n",
       "    <tr>\n",
       "      <th>0</th>\n",
       "      <td>b6ab77fd7</td>\n",
       "      <td>1024</td>\n",
       "      <td>1024</td>\n",
       "      <td>[834.0, 222.0, 56.0, 36.0]</td>\n",
       "      <td>usask_1</td>\n",
       "    </tr>\n",
       "    <tr>\n",
       "      <th>1</th>\n",
       "      <td>b6ab77fd7</td>\n",
       "      <td>1024</td>\n",
       "      <td>1024</td>\n",
       "      <td>[226.0, 548.0, 130.0, 58.0]</td>\n",
       "      <td>usask_1</td>\n",
       "    </tr>\n",
       "    <tr>\n",
       "      <th>2</th>\n",
       "      <td>b6ab77fd7</td>\n",
       "      <td>1024</td>\n",
       "      <td>1024</td>\n",
       "      <td>[377.0, 504.0, 74.0, 160.0]</td>\n",
       "      <td>usask_1</td>\n",
       "    </tr>\n",
       "    <tr>\n",
       "      <th>3</th>\n",
       "      <td>b6ab77fd7</td>\n",
       "      <td>1024</td>\n",
       "      <td>1024</td>\n",
       "      <td>[834.0, 95.0, 109.0, 107.0]</td>\n",
       "      <td>usask_1</td>\n",
       "    </tr>\n",
       "    <tr>\n",
       "      <th>4</th>\n",
       "      <td>b6ab77fd7</td>\n",
       "      <td>1024</td>\n",
       "      <td>1024</td>\n",
       "      <td>[26.0, 144.0, 124.0, 117.0]</td>\n",
       "      <td>usask_1</td>\n",
       "    </tr>\n",
       "    <tr>\n",
       "      <th>...</th>\n",
       "      <td>...</td>\n",
       "      <td>...</td>\n",
       "      <td>...</td>\n",
       "      <td>...</td>\n",
       "      <td>...</td>\n",
       "    </tr>\n",
       "    <tr>\n",
       "      <th>95</th>\n",
       "      <td>7b72ea0fb</td>\n",
       "      <td>1024</td>\n",
       "      <td>1024</td>\n",
       "      <td>[126.0, 464.0, 65.0, 53.0]</td>\n",
       "      <td>usask_1</td>\n",
       "    </tr>\n",
       "    <tr>\n",
       "      <th>96</th>\n",
       "      <td>7b72ea0fb</td>\n",
       "      <td>1024</td>\n",
       "      <td>1024</td>\n",
       "      <td>[363.0, 262.0, 68.0, 145.0]</td>\n",
       "      <td>usask_1</td>\n",
       "    </tr>\n",
       "    <tr>\n",
       "      <th>97</th>\n",
       "      <td>7b72ea0fb</td>\n",
       "      <td>1024</td>\n",
       "      <td>1024</td>\n",
       "      <td>[912.0, 656.0, 97.0, 76.0]</td>\n",
       "      <td>usask_1</td>\n",
       "    </tr>\n",
       "    <tr>\n",
       "      <th>98</th>\n",
       "      <td>7b72ea0fb</td>\n",
       "      <td>1024</td>\n",
       "      <td>1024</td>\n",
       "      <td>[182.0, 97.0, 92.0, 84.0]</td>\n",
       "      <td>usask_1</td>\n",
       "    </tr>\n",
       "    <tr>\n",
       "      <th>99</th>\n",
       "      <td>7b72ea0fb</td>\n",
       "      <td>1024</td>\n",
       "      <td>1024</td>\n",
       "      <td>[208.0, 652.0, 68.0, 84.0]</td>\n",
       "      <td>usask_1</td>\n",
       "    </tr>\n",
       "  </tbody>\n",
       "</table>\n",
       "<p>100 rows × 5 columns</p>\n",
       "</div>"
      ],
      "text/plain": [
       "     image_id  width  height                         bbox   source\n",
       "0   b6ab77fd7   1024    1024   [834.0, 222.0, 56.0, 36.0]  usask_1\n",
       "1   b6ab77fd7   1024    1024  [226.0, 548.0, 130.0, 58.0]  usask_1\n",
       "2   b6ab77fd7   1024    1024  [377.0, 504.0, 74.0, 160.0]  usask_1\n",
       "3   b6ab77fd7   1024    1024  [834.0, 95.0, 109.0, 107.0]  usask_1\n",
       "4   b6ab77fd7   1024    1024  [26.0, 144.0, 124.0, 117.0]  usask_1\n",
       "..        ...    ...     ...                          ...      ...\n",
       "95  7b72ea0fb   1024    1024   [126.0, 464.0, 65.0, 53.0]  usask_1\n",
       "96  7b72ea0fb   1024    1024  [363.0, 262.0, 68.0, 145.0]  usask_1\n",
       "97  7b72ea0fb   1024    1024   [912.0, 656.0, 97.0, 76.0]  usask_1\n",
       "98  7b72ea0fb   1024    1024    [182.0, 97.0, 92.0, 84.0]  usask_1\n",
       "99  7b72ea0fb   1024    1024   [208.0, 652.0, 68.0, 84.0]  usask_1\n",
       "\n",
       "[100 rows x 5 columns]"
      ]
     },
     "execution_count": 4,
     "metadata": {},
     "output_type": "execute_result"
    }
   ],
   "source": [
    "train_df.head(100)"
   ]
  },
  {
   "cell_type": "code",
   "execution_count": 5,
   "id": "f0c23457",
   "metadata": {
    "execution": {
     "iopub.execute_input": "2022-02-06T19:40:26.378866Z",
     "iopub.status.busy": "2022-02-06T19:40:26.378107Z",
     "iopub.status.idle": "2022-02-06T19:40:26.382835Z",
     "shell.execute_reply": "2022-02-06T19:40:26.383484Z",
     "shell.execute_reply.started": "2022-02-06T19:31:41.640535Z"
    },
    "papermill": {
     "duration": 0.037991,
     "end_time": "2022-02-06T19:40:26.383694",
     "exception": false,
     "start_time": "2022-02-06T19:40:26.345703",
     "status": "completed"
    },
    "tags": []
   },
   "outputs": [],
   "source": [
    "#Dropping unwanted columns\n",
    "train_df=train_df.drop(columns=['width','height','source'])\n"
   ]
  },
  {
   "cell_type": "code",
   "execution_count": 6,
   "id": "d2c03af7",
   "metadata": {
    "execution": {
     "iopub.execute_input": "2022-02-06T19:40:26.446825Z",
     "iopub.status.busy": "2022-02-06T19:40:26.445911Z",
     "iopub.status.idle": "2022-02-06T19:40:26.458795Z",
     "shell.execute_reply": "2022-02-06T19:40:26.458263Z",
     "shell.execute_reply.started": "2022-02-06T19:31:41.655920Z"
    },
    "papermill": {
     "duration": 0.050036,
     "end_time": "2022-02-06T19:40:26.458921",
     "exception": false,
     "start_time": "2022-02-06T19:40:26.408885",
     "status": "completed"
    },
    "tags": []
   },
   "outputs": [
    {
     "data": {
      "text/plain": [
       "3373"
      ]
     },
     "execution_count": 6,
     "metadata": {},
     "output_type": "execute_result"
    }
   ],
   "source": [
    "train_df['image_id'].nunique() \n",
    "# There are total 3373 unique image in training dataset\n"
   ]
  },
  {
   "cell_type": "code",
   "execution_count": 7,
   "id": "6ee8233f",
   "metadata": {
    "execution": {
     "iopub.execute_input": "2022-02-06T19:40:26.503628Z",
     "iopub.status.busy": "2022-02-06T19:40:26.502997Z",
     "iopub.status.idle": "2022-02-06T19:40:26.506536Z",
     "shell.execute_reply": "2022-02-06T19:40:26.507063Z",
     "shell.execute_reply.started": "2022-02-06T19:31:41.684688Z"
    },
    "papermill": {
     "duration": 0.031513,
     "end_time": "2022-02-06T19:40:26.507212",
     "exception": false,
     "start_time": "2022-02-06T19:40:26.475699",
     "status": "completed"
    },
    "tags": []
   },
   "outputs": [
    {
     "data": {
      "text/plain": [
       "116"
      ]
     },
     "execution_count": 7,
     "metadata": {},
     "output_type": "execute_result"
    }
   ],
   "source": [
    "(train_df['image_id'].value_counts()).max()\n",
    "# maximum number of bounding boxes in a single image are 116\n"
   ]
  },
  {
   "cell_type": "code",
   "execution_count": 8,
   "id": "51dcb0fe",
   "metadata": {
    "execution": {
     "iopub.execute_input": "2022-02-06T19:40:26.543138Z",
     "iopub.status.busy": "2022-02-06T19:40:26.542628Z",
     "iopub.status.idle": "2022-02-06T19:40:26.553946Z",
     "shell.execute_reply": "2022-02-06T19:40:26.553362Z",
     "shell.execute_reply.started": "2022-02-06T19:31:41.714801Z"
    },
    "papermill": {
     "duration": 0.030282,
     "end_time": "2022-02-06T19:40:26.554080",
     "exception": false,
     "start_time": "2022-02-06T19:40:26.523798",
     "status": "completed"
    },
    "tags": []
   },
   "outputs": [
    {
     "data": {
      "text/plain": [
       "1"
      ]
     },
     "execution_count": 8,
     "metadata": {},
     "output_type": "execute_result"
    }
   ],
   "source": [
    "(train_df['image_id'].value_counts()). min() \n",
    "# Minimum number of bounding box in a single image is 1\n"
   ]
  },
  {
   "cell_type": "code",
   "execution_count": 9,
   "id": "5494810d",
   "metadata": {
    "execution": {
     "iopub.execute_input": "2022-02-06T19:40:26.594915Z",
     "iopub.status.busy": "2022-02-06T19:40:26.594167Z",
     "iopub.status.idle": "2022-02-06T19:40:26.598798Z",
     "shell.execute_reply": "2022-02-06T19:40:26.598233Z",
     "shell.execute_reply.started": "2022-02-06T19:31:41.747548Z"
    },
    "papermill": {
     "duration": 0.027456,
     "end_time": "2022-02-06T19:40:26.598934",
     "exception": false,
     "start_time": "2022-02-06T19:40:26.571478",
     "status": "completed"
    },
    "tags": []
   },
   "outputs": [],
   "source": [
    "train_df['x'] = -1\n",
    "train_df['y'] = -1\n",
    "train_df['w'] = -1\n",
    "train_df['h'] = -1\n",
    "\n",
    "\n",
    "def expand_bbox(x):\n",
    "    r = np.array(re.findall(\"([0-9]+[.]?[0-9]*)\", x))\n",
    "    if len(r) == 0:\n",
    "        r = [-1, -1, -1, -1]\n",
    "    return r    "
   ]
  },
  {
   "cell_type": "code",
   "execution_count": 10,
   "id": "c3a08584",
   "metadata": {
    "execution": {
     "iopub.execute_input": "2022-02-06T19:40:26.635996Z",
     "iopub.status.busy": "2022-02-06T19:40:26.635507Z",
     "iopub.status.idle": "2022-02-06T19:40:27.452609Z",
     "shell.execute_reply": "2022-02-06T19:40:27.452057Z",
     "shell.execute_reply.started": "2022-02-06T19:31:41.762327Z"
    },
    "papermill": {
     "duration": 0.83657,
     "end_time": "2022-02-06T19:40:27.452735",
     "exception": false,
     "start_time": "2022-02-06T19:40:26.616165",
     "status": "completed"
    },
    "tags": []
   },
   "outputs": [],
   "source": [
    "train_df[['x', 'y', 'w', 'h']] = np.stack(train_df['bbox'].apply(lambda x: expand_bbox(x))) ##Lets convert the Box in \n"
   ]
  },
  {
   "cell_type": "code",
   "execution_count": 11,
   "id": "1a64c140",
   "metadata": {
    "execution": {
     "iopub.execute_input": "2022-02-06T19:40:27.502901Z",
     "iopub.status.busy": "2022-02-06T19:40:27.502212Z",
     "iopub.status.idle": "2022-02-06T19:40:27.545176Z",
     "shell.execute_reply": "2022-02-06T19:40:27.544671Z",
     "shell.execute_reply.started": "2022-02-06T19:31:43.503166Z"
    },
    "papermill": {
     "duration": 0.074747,
     "end_time": "2022-02-06T19:40:27.545311",
     "exception": false,
     "start_time": "2022-02-06T19:40:27.470564",
     "status": "completed"
    },
    "tags": []
   },
   "outputs": [],
   "source": [
    "train_df['x'] = train_df['x'].astype(np.float)                                        #in our desired formate    \n",
    "train_df['y'] = train_df['y'].astype(np.float)\n",
    "train_df['w'] = train_df['w'].astype(np.float)\n",
    "train_df['h'] = train_df['h'].astype(np.float)"
   ]
  },
  {
   "cell_type": "code",
   "execution_count": 12,
   "id": "b76ae687",
   "metadata": {
    "execution": {
     "iopub.execute_input": "2022-02-06T19:40:27.591890Z",
     "iopub.status.busy": "2022-02-06T19:40:27.591262Z",
     "iopub.status.idle": "2022-02-06T19:40:27.593809Z",
     "shell.execute_reply": "2022-02-06T19:40:27.594184Z",
     "shell.execute_reply.started": "2022-02-06T19:31:43.631858Z"
    },
    "papermill": {
     "duration": 0.03155,
     "end_time": "2022-02-06T19:40:27.594337",
     "exception": false,
     "start_time": "2022-02-06T19:40:27.562787",
     "status": "completed"
    },
    "tags": []
   },
   "outputs": [
    {
     "data": {
      "text/html": [
       "<div>\n",
       "<style scoped>\n",
       "    .dataframe tbody tr th:only-of-type {\n",
       "        vertical-align: middle;\n",
       "    }\n",
       "\n",
       "    .dataframe tbody tr th {\n",
       "        vertical-align: top;\n",
       "    }\n",
       "\n",
       "    .dataframe thead th {\n",
       "        text-align: right;\n",
       "    }\n",
       "</style>\n",
       "<table border=\"1\" class=\"dataframe\">\n",
       "  <thead>\n",
       "    <tr style=\"text-align: right;\">\n",
       "      <th></th>\n",
       "      <th>image_id</th>\n",
       "      <th>bbox</th>\n",
       "      <th>x</th>\n",
       "      <th>y</th>\n",
       "      <th>w</th>\n",
       "      <th>h</th>\n",
       "    </tr>\n",
       "  </thead>\n",
       "  <tbody>\n",
       "    <tr>\n",
       "      <th>0</th>\n",
       "      <td>b6ab77fd7</td>\n",
       "      <td>[834.0, 222.0, 56.0, 36.0]</td>\n",
       "      <td>834.0</td>\n",
       "      <td>222.0</td>\n",
       "      <td>56.0</td>\n",
       "      <td>36.0</td>\n",
       "    </tr>\n",
       "    <tr>\n",
       "      <th>1</th>\n",
       "      <td>b6ab77fd7</td>\n",
       "      <td>[226.0, 548.0, 130.0, 58.0]</td>\n",
       "      <td>226.0</td>\n",
       "      <td>548.0</td>\n",
       "      <td>130.0</td>\n",
       "      <td>58.0</td>\n",
       "    </tr>\n",
       "    <tr>\n",
       "      <th>2</th>\n",
       "      <td>b6ab77fd7</td>\n",
       "      <td>[377.0, 504.0, 74.0, 160.0]</td>\n",
       "      <td>377.0</td>\n",
       "      <td>504.0</td>\n",
       "      <td>74.0</td>\n",
       "      <td>160.0</td>\n",
       "    </tr>\n",
       "    <tr>\n",
       "      <th>3</th>\n",
       "      <td>b6ab77fd7</td>\n",
       "      <td>[834.0, 95.0, 109.0, 107.0]</td>\n",
       "      <td>834.0</td>\n",
       "      <td>95.0</td>\n",
       "      <td>109.0</td>\n",
       "      <td>107.0</td>\n",
       "    </tr>\n",
       "    <tr>\n",
       "      <th>4</th>\n",
       "      <td>b6ab77fd7</td>\n",
       "      <td>[26.0, 144.0, 124.0, 117.0]</td>\n",
       "      <td>26.0</td>\n",
       "      <td>144.0</td>\n",
       "      <td>124.0</td>\n",
       "      <td>117.0</td>\n",
       "    </tr>\n",
       "  </tbody>\n",
       "</table>\n",
       "</div>"
      ],
      "text/plain": [
       "    image_id                         bbox      x      y      w      h\n",
       "0  b6ab77fd7   [834.0, 222.0, 56.0, 36.0]  834.0  222.0   56.0   36.0\n",
       "1  b6ab77fd7  [226.0, 548.0, 130.0, 58.0]  226.0  548.0  130.0   58.0\n",
       "2  b6ab77fd7  [377.0, 504.0, 74.0, 160.0]  377.0  504.0   74.0  160.0\n",
       "3  b6ab77fd7  [834.0, 95.0, 109.0, 107.0]  834.0   95.0  109.0  107.0\n",
       "4  b6ab77fd7  [26.0, 144.0, 124.0, 117.0]   26.0  144.0  124.0  117.0"
      ]
     },
     "execution_count": 12,
     "metadata": {},
     "output_type": "execute_result"
    }
   ],
   "source": [
    "train_df.head()"
   ]
  },
  {
   "cell_type": "code",
   "execution_count": 13,
   "id": "73ffa4ef",
   "metadata": {
    "execution": {
     "iopub.execute_input": "2022-02-06T19:40:27.632483Z",
     "iopub.status.busy": "2022-02-06T19:40:27.631861Z",
     "iopub.status.idle": "2022-02-06T19:40:27.634958Z",
     "shell.execute_reply": "2022-02-06T19:40:27.634378Z",
     "shell.execute_reply.started": "2022-02-06T19:31:43.650712Z"
    },
    "papermill": {
     "duration": 0.023546,
     "end_time": "2022-02-06T19:40:27.635081",
     "exception": false,
     "start_time": "2022-02-06T19:40:27.611535",
     "status": "completed"
    },
    "tags": []
   },
   "outputs": [],
   "source": [
    "# Splitting the dataset into train and validation"
   ]
  },
  {
   "cell_type": "code",
   "execution_count": 14,
   "id": "b6ae7721",
   "metadata": {
    "execution": {
     "iopub.execute_input": "2022-02-06T19:40:27.683240Z",
     "iopub.status.busy": "2022-02-06T19:40:27.682629Z",
     "iopub.status.idle": "2022-02-06T19:40:27.715034Z",
     "shell.execute_reply": "2022-02-06T19:40:27.714447Z",
     "shell.execute_reply.started": "2022-02-06T19:31:43.662184Z"
    },
    "papermill": {
     "duration": 0.062654,
     "end_time": "2022-02-06T19:40:27.715171",
     "exception": false,
     "start_time": "2022-02-06T19:40:27.652517",
     "status": "completed"
    },
    "tags": []
   },
   "outputs": [],
   "source": [
    "image_ids = train_df['image_id'].unique()\n",
    "valid_ids = image_ids[-665:]\n",
    "train_ids = image_ids[:-665]\n",
    "\n",
    "valid_df = train_df[train_df['image_id'].isin(valid_ids)]\n",
    "train_df = train_df[train_df['image_id'].isin(train_ids)]\n"
   ]
  },
  {
   "cell_type": "code",
   "execution_count": 15,
   "id": "311cc68b",
   "metadata": {
    "execution": {
     "iopub.execute_input": "2022-02-06T19:40:27.754659Z",
     "iopub.status.busy": "2022-02-06T19:40:27.752972Z",
     "iopub.status.idle": "2022-02-06T19:40:27.756893Z",
     "shell.execute_reply": "2022-02-06T19:40:27.756453Z",
     "shell.execute_reply.started": "2022-02-06T19:31:43.725783Z"
    },
    "papermill": {
     "duration": 0.024156,
     "end_time": "2022-02-06T19:40:27.757016",
     "exception": false,
     "start_time": "2022-02-06T19:40:27.732860",
     "status": "completed"
    },
    "tags": []
   },
   "outputs": [],
   "source": [
    "#Apply transform to image \n",
    "trans = transforms.Compose([transforms.ToTensor()])"
   ]
  },
  {
   "cell_type": "markdown",
   "id": "0ca4c14f",
   "metadata": {
    "papermill": {
     "duration": 0.017066,
     "end_time": "2022-02-06T19:40:27.791290",
     "exception": false,
     "start_time": "2022-02-06T19:40:27.774224",
     "status": "completed"
    },
    "tags": []
   },
   "source": [
    "Creating a Custom Dataset\n"
   ]
  },
  {
   "cell_type": "code",
   "execution_count": 16,
   "id": "24a5a35a",
   "metadata": {
    "execution": {
     "iopub.execute_input": "2022-02-06T19:40:27.838421Z",
     "iopub.status.busy": "2022-02-06T19:40:27.834698Z",
     "iopub.status.idle": "2022-02-06T19:40:27.840812Z",
     "shell.execute_reply": "2022-02-06T19:40:27.840180Z",
     "shell.execute_reply.started": "2022-02-06T19:36:43.402479Z"
    },
    "papermill": {
     "duration": 0.032177,
     "end_time": "2022-02-06T19:40:27.840948",
     "exception": false,
     "start_time": "2022-02-06T19:40:27.808771",
     "status": "completed"
    },
    "tags": []
   },
   "outputs": [],
   "source": [
    "class WheatDataset(Dataset):\n",
    "\n",
    "    def __init__(self, dataframe, image_dir, transforms=None,train=True):\n",
    "        super().__init__()\n",
    "\n",
    "        self.image_ids = dataframe['image_id'].unique()\n",
    "        self.df = dataframe\n",
    "        self.image_dir = image_dir\n",
    "        self.transforms = transforms\n",
    "        self.train=train\n",
    "\n",
    "    def __len__(self) -> int:\n",
    "        return self.image_ids.shape[0]\n",
    "\n",
    "    def __getitem__(self, index: int):\n",
    "\n",
    "        image_id = self.image_ids[index]\n",
    "        image = cv2.imread(f'{self.image_dir}/{image_id}.jpg', cv2.IMREAD_COLOR)\n",
    "        image = cv2.cvtColor(image, cv2.COLOR_BGR2RGB).astype(np.float32)\n",
    "        image /= 255.0\n",
    "        if self.transforms is not None:  #Apply transformation\n",
    "            image = self.transforms(image)\n",
    "        if(self.train==False):  # For test data\n",
    "            return image, image_id\n",
    "        #Else for train and validation data\n",
    "        records = self.df[self.df['image_id'] == image_id]   \n",
    "        boxes = records[['x', 'y', 'w', 'h']].values\n",
    "        boxes[:, 2] = boxes[:, 0] + boxes[:, 2]\n",
    "        boxes[:, 3] = boxes[:, 1] + boxes[:, 3]\n",
    "        boxes = torch.as_tensor(boxes, dtype=torch.float32)\n",
    "        \n",
    "        area = (boxes[:, 3] - boxes[:, 1]) * (boxes[:, 2] - boxes[:, 0])\n",
    "        area = torch.as_tensor(area, dtype=torch.float32)\n",
    "\n",
    "        # there is only one class\n",
    "        labels = torch.ones((records.shape[0],), dtype=torch.int64)\n",
    "        \n",
    "        # suppose all instances are not crowd\n",
    "        iscrowd = torch.zeros((records.shape[0],), dtype=torch.int64)\n",
    "        \n",
    "        target = {}\n",
    "        target['boxes'] = boxes\n",
    "        target['labels'] = labels\n",
    "        target['image_id'] = torch.tensor([index])\n",
    "        target['area'] = area\n",
    "        target['iscrowd'] = iscrowd\n",
    "\n",
    "        return image, target,image_id  "
   ]
  },
  {
   "cell_type": "code",
   "execution_count": 17,
   "id": "f5bd586c",
   "metadata": {
    "execution": {
     "iopub.execute_input": "2022-02-06T19:40:27.880963Z",
     "iopub.status.busy": "2022-02-06T19:40:27.880360Z",
     "iopub.status.idle": "2022-02-06T19:40:27.883150Z",
     "shell.execute_reply": "2022-02-06T19:40:27.883567Z",
     "shell.execute_reply.started": "2022-02-06T19:36:43.877057Z"
    },
    "papermill": {
     "duration": 0.024943,
     "end_time": "2022-02-06T19:40:27.883740",
     "exception": false,
     "start_time": "2022-02-06T19:40:27.858797",
     "status": "completed"
    },
    "tags": []
   },
   "outputs": [],
   "source": [
    "train_dir = \"../input/global-wheat-detection/train\"\n",
    "test_dir = \"../input/global-wheat-detection/test\""
   ]
  },
  {
   "cell_type": "code",
   "execution_count": 18,
   "id": "894abae9",
   "metadata": {
    "execution": {
     "iopub.execute_input": "2022-02-06T19:40:27.932241Z",
     "iopub.status.busy": "2022-02-06T19:40:27.920753Z",
     "iopub.status.idle": "2022-02-06T19:40:27.952211Z",
     "shell.execute_reply": "2022-02-06T19:40:27.951608Z",
     "shell.execute_reply.started": "2022-02-06T19:36:44.326855Z"
    },
    "papermill": {
     "duration": 0.051213,
     "end_time": "2022-02-06T19:40:27.952337",
     "exception": false,
     "start_time": "2022-02-06T19:40:27.901124",
     "status": "completed"
    },
    "tags": []
   },
   "outputs": [],
   "source": [
    "class Averager:      #Returns the average loss \n",
    "    def __init__(self):\n",
    "        self.current_total = 0.0\n",
    "        self.iterations = 0.0\n",
    "\n",
    "    def send(self, value):\n",
    "        self.current_total += value\n",
    "        self.iterations += 1\n",
    "\n",
    "    @property\n",
    "    def value(self):\n",
    "        if self.iterations == 0:\n",
    "            return 0\n",
    "        else:\n",
    "            return 1.0 * self.current_total / self.iterations\n",
    "\n",
    "    def reset(self):\n",
    "        self.current_total = 0.0\n",
    "        self.iterations = 0.0\n",
    "        \n",
    "        \n",
    "def collate_fn(batch):\n",
    "    return tuple(zip(*batch))\n",
    "\n",
    "train_dataset = WheatDataset(train_df, train_dir, trans,True)\n",
    "valid_dataset = WheatDataset(valid_df, train_dir, trans,True)\n",
    "\n",
    "\n",
    "# split the dataset in train and test set\n",
    "indices = torch.randperm(len(train_dataset)).tolist()\n",
    "\n",
    "train_data_loader = DataLoader(\n",
    "    train_dataset,\n",
    "    batch_size=16,\n",
    "    shuffle=False,\n",
    "    num_workers=4,\n",
    "    collate_fn=collate_fn\n",
    ")\n",
    "\n",
    "valid_data_loader = DataLoader(\n",
    "    valid_dataset,\n",
    "    batch_size=8,\n",
    "    shuffle=False,\n",
    "    num_workers=4,\n",
    "    collate_fn=collate_fn\n",
    ")\n"
   ]
  },
  {
   "cell_type": "code",
   "execution_count": 19,
   "id": "cde4c590",
   "metadata": {
    "execution": {
     "iopub.execute_input": "2022-02-06T19:40:27.991347Z",
     "iopub.status.busy": "2022-02-06T19:40:27.990737Z",
     "iopub.status.idle": "2022-02-06T19:40:27.993063Z",
     "shell.execute_reply": "2022-02-06T19:40:27.992566Z",
     "shell.execute_reply.started": "2022-02-06T19:36:44.832284Z"
    },
    "papermill": {
     "duration": 0.023483,
     "end_time": "2022-02-06T19:40:27.993187",
     "exception": false,
     "start_time": "2022-02-06T19:40:27.969704",
     "status": "completed"
    },
    "tags": []
   },
   "outputs": [],
   "source": [
    "device = torch.device('cuda') if torch.cuda.is_available() else torch.device('cpu')\n"
   ]
  },
  {
   "cell_type": "code",
   "execution_count": 20,
   "id": "0d6a83b9",
   "metadata": {
    "execution": {
     "iopub.execute_input": "2022-02-06T19:40:28.032505Z",
     "iopub.status.busy": "2022-02-06T19:40:28.031962Z",
     "iopub.status.idle": "2022-02-06T19:40:28.034355Z",
     "shell.execute_reply": "2022-02-06T19:40:28.033926Z",
     "shell.execute_reply.started": "2022-02-06T19:37:46.495775Z"
    },
    "papermill": {
     "duration": 0.023676,
     "end_time": "2022-02-06T19:40:28.034499",
     "exception": false,
     "start_time": "2022-02-06T19:40:28.010823",
     "status": "completed"
    },
    "tags": []
   },
   "outputs": [],
   "source": [
    "\n",
    "# images, targets, image_ids = next(iter(train_data_loader))\n",
    "# images = list(image.to(device) for image in images)\n",
    "# targets = [{k: v.to(device) for k, v in t.items()} for t in targets]\n",
    "\n",
    "# boxes = targets[4]['boxes'].cpu().numpy().astype(np.int32)\n",
    "# sample = images[4].permute(1,2,0).cpu().numpy()\n",
    "\n",
    "# fig, ax = plt.subplots(1, 1, figsize=(16, 8))\n",
    "\n",
    "# for box in boxes:\n",
    "#     cv2.rectangle(sample,\n",
    "#                   (box[0], box[1]),\n",
    "#                   (box[2], box[3]),\n",
    "#                   (220, 0, 0), 3)\n",
    "    \n",
    "# ax.set_axis_off()\n",
    "# ax.imshow(sample)"
   ]
  },
  {
   "cell_type": "code",
   "execution_count": null,
   "id": "f92e3aef",
   "metadata": {
    "papermill": {
     "duration": 0.017157,
     "end_time": "2022-02-06T19:40:28.069049",
     "exception": false,
     "start_time": "2022-02-06T19:40:28.051892",
     "status": "completed"
    },
    "tags": []
   },
   "outputs": [],
   "source": []
  },
  {
   "cell_type": "code",
   "execution_count": null,
   "id": "78e75ac3",
   "metadata": {
    "papermill": {
     "duration": 0.017435,
     "end_time": "2022-02-06T19:40:28.104482",
     "exception": false,
     "start_time": "2022-02-06T19:40:28.087047",
     "status": "completed"
    },
    "tags": []
   },
   "outputs": [],
   "source": []
  }
 ],
 "metadata": {
  "kernelspec": {
   "display_name": "Python 3",
   "language": "python",
   "name": "python3"
  },
  "language_info": {
   "codemirror_mode": {
    "name": "ipython",
    "version": 3
   },
   "file_extension": ".py",
   "mimetype": "text/x-python",
   "name": "python",
   "nbconvert_exporter": "python",
   "pygments_lexer": "ipython3",
   "version": "3.7.12"
  },
  "papermill": {
   "default_parameters": {},
   "duration": 16.267749,
   "end_time": "2022-02-06T19:40:28.930712",
   "environment_variables": {},
   "exception": null,
   "input_path": "__notebook__.ipynb",
   "output_path": "__notebook__.ipynb",
   "parameters": {},
   "start_time": "2022-02-06T19:40:12.662963",
   "version": "2.3.3"
  }
 },
 "nbformat": 4,
 "nbformat_minor": 5
}
