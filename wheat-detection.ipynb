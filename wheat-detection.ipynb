{
 "cells": [
  {
   "cell_type": "code",
   "execution_count": 1,
   "id": "14644c75",
   "metadata": {
    "_cell_guid": "b1076dfc-b9ad-4769-8c92-a6c4dae69d19",
    "_uuid": "8f2839f25d086af736a60e9eeb907d3b93b6e0e5",
    "execution": {
     "iopub.execute_input": "2022-02-06T18:35:57.715303Z",
     "iopub.status.busy": "2022-02-06T18:35:57.713460Z",
     "iopub.status.idle": "2022-02-06T18:35:57.724874Z",
     "shell.execute_reply": "2022-02-06T18:35:57.725335Z",
     "shell.execute_reply.started": "2022-02-06T18:33:02.227305Z"
    },
    "papermill": {
     "duration": 0.036804,
     "end_time": "2022-02-06T18:35:57.725733",
     "exception": false,
     "start_time": "2022-02-06T18:35:57.688929",
     "status": "completed"
    },
    "tags": []
   },
   "outputs": [],
   "source": [
    "import numpy as np\n",
    "import pandas as pd\n",
    "import os\n",
    "import os\n",
    "# for dirname, _, filenames in os.walk('/kaggle/input'):\n",
    "#     for filename in filenames:\n",
    "#         print(os.path.join(dirname, filename))"
   ]
  },
  {
   "cell_type": "code",
   "execution_count": 2,
   "id": "0b270edb",
   "metadata": {
    "execution": {
     "iopub.execute_input": "2022-02-06T18:35:57.764349Z",
     "iopub.status.busy": "2022-02-06T18:35:57.763316Z",
     "iopub.status.idle": "2022-02-06T18:35:59.431470Z",
     "shell.execute_reply": "2022-02-06T18:35:59.432010Z",
     "shell.execute_reply.started": "2022-02-06T17:39:16.548817Z"
    },
    "papermill": {
     "duration": 1.68918,
     "end_time": "2022-02-06T18:35:59.432198",
     "exception": false,
     "start_time": "2022-02-06T18:35:57.743018",
     "status": "completed"
    },
    "tags": []
   },
   "outputs": [],
   "source": [
    "import cv2\n",
    "import os\n",
    "import re\n",
    "import torch\n",
    "import torchvision\n",
    "from torchvision import transforms\n",
    "from torchvision.models.detection.faster_rcnn import FastRCNNPredictor\n",
    "from torchvision.models.detection import FasterRCNN\n",
    "#from torchvision.models.detection import AnchorGenerator\n",
    "from torch.utils.data import DataLoader, Dataset\n",
    "from torch.utils.data.sampler import SequentialSampler\n",
    "from matplotlib import pyplot as plt"
   ]
  },
  {
   "cell_type": "code",
   "execution_count": 3,
   "id": "d239edbe",
   "metadata": {
    "execution": {
     "iopub.execute_input": "2022-02-06T18:35:59.469768Z",
     "iopub.status.busy": "2022-02-06T18:35:59.468818Z",
     "iopub.status.idle": "2022-02-06T18:35:59.776739Z",
     "shell.execute_reply": "2022-02-06T18:35:59.777383Z",
     "shell.execute_reply.started": "2022-02-06T17:39:18.166482Z"
    },
    "papermill": {
     "duration": 0.328322,
     "end_time": "2022-02-06T18:35:59.777608",
     "exception": false,
     "start_time": "2022-02-06T18:35:59.449286",
     "status": "completed"
    },
    "tags": []
   },
   "outputs": [],
   "source": [
    "train_df = pd.read_csv(\"/kaggle/input/global-wheat-detection/train.csv\")\n",
    "submit = pd.read_csv(\"/kaggle/input/global-wheat-detection/sample_submission.csv\")\n"
   ]
  },
  {
   "cell_type": "code",
   "execution_count": 4,
   "id": "835d890b",
   "metadata": {
    "execution": {
     "iopub.execute_input": "2022-02-06T18:35:59.824370Z",
     "iopub.status.busy": "2022-02-06T18:35:59.823705Z",
     "iopub.status.idle": "2022-02-06T18:35:59.847067Z",
     "shell.execute_reply": "2022-02-06T18:35:59.846420Z",
     "shell.execute_reply.started": "2022-02-06T17:39:18.495986Z"
    },
    "papermill": {
     "duration": 0.048723,
     "end_time": "2022-02-06T18:35:59.847212",
     "exception": false,
     "start_time": "2022-02-06T18:35:59.798489",
     "status": "completed"
    },
    "tags": []
   },
   "outputs": [
    {
     "data": {
      "text/html": [
       "<div>\n",
       "<style scoped>\n",
       "    .dataframe tbody tr th:only-of-type {\n",
       "        vertical-align: middle;\n",
       "    }\n",
       "\n",
       "    .dataframe tbody tr th {\n",
       "        vertical-align: top;\n",
       "    }\n",
       "\n",
       "    .dataframe thead th {\n",
       "        text-align: right;\n",
       "    }\n",
       "</style>\n",
       "<table border=\"1\" class=\"dataframe\">\n",
       "  <thead>\n",
       "    <tr style=\"text-align: right;\">\n",
       "      <th></th>\n",
       "      <th>image_id</th>\n",
       "      <th>width</th>\n",
       "      <th>height</th>\n",
       "      <th>bbox</th>\n",
       "      <th>source</th>\n",
       "    </tr>\n",
       "  </thead>\n",
       "  <tbody>\n",
       "    <tr>\n",
       "      <th>0</th>\n",
       "      <td>b6ab77fd7</td>\n",
       "      <td>1024</td>\n",
       "      <td>1024</td>\n",
       "      <td>[834.0, 222.0, 56.0, 36.0]</td>\n",
       "      <td>usask_1</td>\n",
       "    </tr>\n",
       "    <tr>\n",
       "      <th>1</th>\n",
       "      <td>b6ab77fd7</td>\n",
       "      <td>1024</td>\n",
       "      <td>1024</td>\n",
       "      <td>[226.0, 548.0, 130.0, 58.0]</td>\n",
       "      <td>usask_1</td>\n",
       "    </tr>\n",
       "    <tr>\n",
       "      <th>2</th>\n",
       "      <td>b6ab77fd7</td>\n",
       "      <td>1024</td>\n",
       "      <td>1024</td>\n",
       "      <td>[377.0, 504.0, 74.0, 160.0]</td>\n",
       "      <td>usask_1</td>\n",
       "    </tr>\n",
       "    <tr>\n",
       "      <th>3</th>\n",
       "      <td>b6ab77fd7</td>\n",
       "      <td>1024</td>\n",
       "      <td>1024</td>\n",
       "      <td>[834.0, 95.0, 109.0, 107.0]</td>\n",
       "      <td>usask_1</td>\n",
       "    </tr>\n",
       "    <tr>\n",
       "      <th>4</th>\n",
       "      <td>b6ab77fd7</td>\n",
       "      <td>1024</td>\n",
       "      <td>1024</td>\n",
       "      <td>[26.0, 144.0, 124.0, 117.0]</td>\n",
       "      <td>usask_1</td>\n",
       "    </tr>\n",
       "    <tr>\n",
       "      <th>...</th>\n",
       "      <td>...</td>\n",
       "      <td>...</td>\n",
       "      <td>...</td>\n",
       "      <td>...</td>\n",
       "      <td>...</td>\n",
       "    </tr>\n",
       "    <tr>\n",
       "      <th>95</th>\n",
       "      <td>7b72ea0fb</td>\n",
       "      <td>1024</td>\n",
       "      <td>1024</td>\n",
       "      <td>[126.0, 464.0, 65.0, 53.0]</td>\n",
       "      <td>usask_1</td>\n",
       "    </tr>\n",
       "    <tr>\n",
       "      <th>96</th>\n",
       "      <td>7b72ea0fb</td>\n",
       "      <td>1024</td>\n",
       "      <td>1024</td>\n",
       "      <td>[363.0, 262.0, 68.0, 145.0]</td>\n",
       "      <td>usask_1</td>\n",
       "    </tr>\n",
       "    <tr>\n",
       "      <th>97</th>\n",
       "      <td>7b72ea0fb</td>\n",
       "      <td>1024</td>\n",
       "      <td>1024</td>\n",
       "      <td>[912.0, 656.0, 97.0, 76.0]</td>\n",
       "      <td>usask_1</td>\n",
       "    </tr>\n",
       "    <tr>\n",
       "      <th>98</th>\n",
       "      <td>7b72ea0fb</td>\n",
       "      <td>1024</td>\n",
       "      <td>1024</td>\n",
       "      <td>[182.0, 97.0, 92.0, 84.0]</td>\n",
       "      <td>usask_1</td>\n",
       "    </tr>\n",
       "    <tr>\n",
       "      <th>99</th>\n",
       "      <td>7b72ea0fb</td>\n",
       "      <td>1024</td>\n",
       "      <td>1024</td>\n",
       "      <td>[208.0, 652.0, 68.0, 84.0]</td>\n",
       "      <td>usask_1</td>\n",
       "    </tr>\n",
       "  </tbody>\n",
       "</table>\n",
       "<p>100 rows × 5 columns</p>\n",
       "</div>"
      ],
      "text/plain": [
       "     image_id  width  height                         bbox   source\n",
       "0   b6ab77fd7   1024    1024   [834.0, 222.0, 56.0, 36.0]  usask_1\n",
       "1   b6ab77fd7   1024    1024  [226.0, 548.0, 130.0, 58.0]  usask_1\n",
       "2   b6ab77fd7   1024    1024  [377.0, 504.0, 74.0, 160.0]  usask_1\n",
       "3   b6ab77fd7   1024    1024  [834.0, 95.0, 109.0, 107.0]  usask_1\n",
       "4   b6ab77fd7   1024    1024  [26.0, 144.0, 124.0, 117.0]  usask_1\n",
       "..        ...    ...     ...                          ...      ...\n",
       "95  7b72ea0fb   1024    1024   [126.0, 464.0, 65.0, 53.0]  usask_1\n",
       "96  7b72ea0fb   1024    1024  [363.0, 262.0, 68.0, 145.0]  usask_1\n",
       "97  7b72ea0fb   1024    1024   [912.0, 656.0, 97.0, 76.0]  usask_1\n",
       "98  7b72ea0fb   1024    1024    [182.0, 97.0, 92.0, 84.0]  usask_1\n",
       "99  7b72ea0fb   1024    1024   [208.0, 652.0, 68.0, 84.0]  usask_1\n",
       "\n",
       "[100 rows x 5 columns]"
      ]
     },
     "execution_count": 4,
     "metadata": {},
     "output_type": "execute_result"
    }
   ],
   "source": [
    "train_df.head(100)"
   ]
  },
  {
   "cell_type": "code",
   "execution_count": 5,
   "id": "f22887f1",
   "metadata": {
    "execution": {
     "iopub.execute_input": "2022-02-06T18:35:59.886353Z",
     "iopub.status.busy": "2022-02-06T18:35:59.885394Z",
     "iopub.status.idle": "2022-02-06T18:35:59.896099Z",
     "shell.execute_reply": "2022-02-06T18:35:59.896752Z",
     "shell.execute_reply.started": "2022-02-06T17:39:18.526101Z"
    },
    "papermill": {
     "duration": 0.031853,
     "end_time": "2022-02-06T18:35:59.896944",
     "exception": false,
     "start_time": "2022-02-06T18:35:59.865091",
     "status": "completed"
    },
    "tags": []
   },
   "outputs": [],
   "source": [
    "#Dropping unwanted columns\n",
    "train_df=train_df.drop(columns=['width','height','source'])\n"
   ]
  },
  {
   "cell_type": "code",
   "execution_count": 6,
   "id": "e53f8aa9",
   "metadata": {
    "execution": {
     "iopub.execute_input": "2022-02-06T18:35:59.935460Z",
     "iopub.status.busy": "2022-02-06T18:35:59.934529Z",
     "iopub.status.idle": "2022-02-06T18:35:59.956965Z",
     "shell.execute_reply": "2022-02-06T18:35:59.957436Z",
     "shell.execute_reply.started": "2022-02-06T17:39:18.539411Z"
    },
    "papermill": {
     "duration": 0.043212,
     "end_time": "2022-02-06T18:35:59.957610",
     "exception": false,
     "start_time": "2022-02-06T18:35:59.914398",
     "status": "completed"
    },
    "tags": []
   },
   "outputs": [
    {
     "data": {
      "text/plain": [
       "3373"
      ]
     },
     "execution_count": 6,
     "metadata": {},
     "output_type": "execute_result"
    }
   ],
   "source": [
    "train_df['image_id'].nunique() \n",
    "# There are total 3373 unique image in training dataset\n"
   ]
  },
  {
   "cell_type": "code",
   "execution_count": 7,
   "id": "56627d07",
   "metadata": {
    "execution": {
     "iopub.execute_input": "2022-02-06T18:35:59.998127Z",
     "iopub.status.busy": "2022-02-06T18:35:59.997129Z",
     "iopub.status.idle": "2022-02-06T18:36:00.023885Z",
     "shell.execute_reply": "2022-02-06T18:36:00.024376Z",
     "shell.execute_reply.started": "2022-02-06T17:39:18.570658Z"
    },
    "papermill": {
     "duration": 0.048755,
     "end_time": "2022-02-06T18:36:00.024556",
     "exception": false,
     "start_time": "2022-02-06T18:35:59.975801",
     "status": "completed"
    },
    "tags": []
   },
   "outputs": [
    {
     "data": {
      "text/plain": [
       "116"
      ]
     },
     "execution_count": 7,
     "metadata": {},
     "output_type": "execute_result"
    }
   ],
   "source": [
    "(train_df['image_id'].value_counts()).max()\n",
    "# maximum number of bounding boxes in a single image are 116\n"
   ]
  },
  {
   "cell_type": "code",
   "execution_count": 8,
   "id": "5d6bc87d",
   "metadata": {
    "execution": {
     "iopub.execute_input": "2022-02-06T18:36:00.064856Z",
     "iopub.status.busy": "2022-02-06T18:36:00.063907Z",
     "iopub.status.idle": "2022-02-06T18:36:00.089986Z",
     "shell.execute_reply": "2022-02-06T18:36:00.089378Z",
     "shell.execute_reply.started": "2022-02-06T17:59:54.021649Z"
    },
    "papermill": {
     "duration": 0.047119,
     "end_time": "2022-02-06T18:36:00.090128",
     "exception": false,
     "start_time": "2022-02-06T18:36:00.043009",
     "status": "completed"
    },
    "tags": []
   },
   "outputs": [
    {
     "data": {
      "text/plain": [
       "1"
      ]
     },
     "execution_count": 8,
     "metadata": {},
     "output_type": "execute_result"
    }
   ],
   "source": [
    "(train_df['image_id'].value_counts()). min() \n",
    "# Minimum number of bounding box in a single image is 1\n"
   ]
  },
  {
   "cell_type": "code",
   "execution_count": 9,
   "id": "e2234ce9",
   "metadata": {
    "execution": {
     "iopub.execute_input": "2022-02-06T18:36:00.134753Z",
     "iopub.status.busy": "2022-02-06T18:36:00.133663Z",
     "iopub.status.idle": "2022-02-06T18:36:00.139151Z",
     "shell.execute_reply": "2022-02-06T18:36:00.138639Z",
     "shell.execute_reply.started": "2022-02-06T17:59:58.614337Z"
    },
    "papermill": {
     "duration": 0.030924,
     "end_time": "2022-02-06T18:36:00.139295",
     "exception": false,
     "start_time": "2022-02-06T18:36:00.108371",
     "status": "completed"
    },
    "tags": []
   },
   "outputs": [],
   "source": [
    "train_df['x'] = -1\n",
    "train_df['y'] = -1\n",
    "train_df['w'] = -1\n",
    "train_df['h'] = -1\n",
    "\n",
    "\n",
    "def expand_bbox(x):\n",
    "    r = np.array(re.findall(\"([0-9]+[.]?[0-9]*)\", x))\n",
    "    if len(r) == 0:\n",
    "        r = [-1, -1, -1, -1]\n",
    "    return r    "
   ]
  },
  {
   "cell_type": "code",
   "execution_count": 10,
   "id": "0c2c1719",
   "metadata": {
    "execution": {
     "iopub.execute_input": "2022-02-06T18:36:00.185154Z",
     "iopub.status.busy": "2022-02-06T18:36:00.183982Z",
     "iopub.status.idle": "2022-02-06T18:36:01.828241Z",
     "shell.execute_reply": "2022-02-06T18:36:01.827690Z",
     "shell.execute_reply.started": "2022-02-06T17:59:59.557928Z"
    },
    "papermill": {
     "duration": 1.670341,
     "end_time": "2022-02-06T18:36:01.828390",
     "exception": false,
     "start_time": "2022-02-06T18:36:00.158049",
     "status": "completed"
    },
    "tags": []
   },
   "outputs": [],
   "source": [
    "train_df[['x', 'y', 'w', 'h']] = np.stack(train_df['bbox'].apply(lambda x: expand_bbox(x))) ##Lets convert the Box in \n"
   ]
  },
  {
   "cell_type": "code",
   "execution_count": 11,
   "id": "bb79d3f7",
   "metadata": {
    "execution": {
     "iopub.execute_input": "2022-02-06T18:36:01.897952Z",
     "iopub.status.busy": "2022-02-06T18:36:01.897264Z",
     "iopub.status.idle": "2022-02-06T18:36:01.997755Z",
     "shell.execute_reply": "2022-02-06T18:36:01.998228Z",
     "shell.execute_reply.started": "2022-02-06T18:00:01.354328Z"
    },
    "papermill": {
     "duration": 0.151431,
     "end_time": "2022-02-06T18:36:01.998434",
     "exception": false,
     "start_time": "2022-02-06T18:36:01.847003",
     "status": "completed"
    },
    "tags": []
   },
   "outputs": [],
   "source": [
    "train_df['x'] = train_df['x'].astype(np.float)                                        #in our desired formate    \n",
    "train_df['y'] = train_df['y'].astype(np.float)\n",
    "train_df['w'] = train_df['w'].astype(np.float)\n",
    "train_df['h'] = train_df['h'].astype(np.float)"
   ]
  },
  {
   "cell_type": "code",
   "execution_count": 12,
   "id": "523c9351",
   "metadata": {
    "execution": {
     "iopub.execute_input": "2022-02-06T18:36:02.039358Z",
     "iopub.status.busy": "2022-02-06T18:36:02.038728Z",
     "iopub.status.idle": "2022-02-06T18:36:02.053153Z",
     "shell.execute_reply": "2022-02-06T18:36:02.052628Z",
     "shell.execute_reply.started": "2022-02-06T18:00:04.132818Z"
    },
    "papermill": {
     "duration": 0.036249,
     "end_time": "2022-02-06T18:36:02.053299",
     "exception": false,
     "start_time": "2022-02-06T18:36:02.017050",
     "status": "completed"
    },
    "tags": []
   },
   "outputs": [
    {
     "data": {
      "text/html": [
       "<div>\n",
       "<style scoped>\n",
       "    .dataframe tbody tr th:only-of-type {\n",
       "        vertical-align: middle;\n",
       "    }\n",
       "\n",
       "    .dataframe tbody tr th {\n",
       "        vertical-align: top;\n",
       "    }\n",
       "\n",
       "    .dataframe thead th {\n",
       "        text-align: right;\n",
       "    }\n",
       "</style>\n",
       "<table border=\"1\" class=\"dataframe\">\n",
       "  <thead>\n",
       "    <tr style=\"text-align: right;\">\n",
       "      <th></th>\n",
       "      <th>image_id</th>\n",
       "      <th>bbox</th>\n",
       "      <th>x</th>\n",
       "      <th>y</th>\n",
       "      <th>w</th>\n",
       "      <th>h</th>\n",
       "    </tr>\n",
       "  </thead>\n",
       "  <tbody>\n",
       "    <tr>\n",
       "      <th>0</th>\n",
       "      <td>b6ab77fd7</td>\n",
       "      <td>[834.0, 222.0, 56.0, 36.0]</td>\n",
       "      <td>834.0</td>\n",
       "      <td>222.0</td>\n",
       "      <td>56.0</td>\n",
       "      <td>36.0</td>\n",
       "    </tr>\n",
       "    <tr>\n",
       "      <th>1</th>\n",
       "      <td>b6ab77fd7</td>\n",
       "      <td>[226.0, 548.0, 130.0, 58.0]</td>\n",
       "      <td>226.0</td>\n",
       "      <td>548.0</td>\n",
       "      <td>130.0</td>\n",
       "      <td>58.0</td>\n",
       "    </tr>\n",
       "    <tr>\n",
       "      <th>2</th>\n",
       "      <td>b6ab77fd7</td>\n",
       "      <td>[377.0, 504.0, 74.0, 160.0]</td>\n",
       "      <td>377.0</td>\n",
       "      <td>504.0</td>\n",
       "      <td>74.0</td>\n",
       "      <td>160.0</td>\n",
       "    </tr>\n",
       "    <tr>\n",
       "      <th>3</th>\n",
       "      <td>b6ab77fd7</td>\n",
       "      <td>[834.0, 95.0, 109.0, 107.0]</td>\n",
       "      <td>834.0</td>\n",
       "      <td>95.0</td>\n",
       "      <td>109.0</td>\n",
       "      <td>107.0</td>\n",
       "    </tr>\n",
       "    <tr>\n",
       "      <th>4</th>\n",
       "      <td>b6ab77fd7</td>\n",
       "      <td>[26.0, 144.0, 124.0, 117.0]</td>\n",
       "      <td>26.0</td>\n",
       "      <td>144.0</td>\n",
       "      <td>124.0</td>\n",
       "      <td>117.0</td>\n",
       "    </tr>\n",
       "  </tbody>\n",
       "</table>\n",
       "</div>"
      ],
      "text/plain": [
       "    image_id                         bbox      x      y      w      h\n",
       "0  b6ab77fd7   [834.0, 222.0, 56.0, 36.0]  834.0  222.0   56.0   36.0\n",
       "1  b6ab77fd7  [226.0, 548.0, 130.0, 58.0]  226.0  548.0  130.0   58.0\n",
       "2  b6ab77fd7  [377.0, 504.0, 74.0, 160.0]  377.0  504.0   74.0  160.0\n",
       "3  b6ab77fd7  [834.0, 95.0, 109.0, 107.0]  834.0   95.0  109.0  107.0\n",
       "4  b6ab77fd7  [26.0, 144.0, 124.0, 117.0]   26.0  144.0  124.0  117.0"
      ]
     },
     "execution_count": 12,
     "metadata": {},
     "output_type": "execute_result"
    }
   ],
   "source": [
    "train_df.head()"
   ]
  },
  {
   "cell_type": "code",
   "execution_count": 13,
   "id": "cb77d5a4",
   "metadata": {
    "execution": {
     "iopub.execute_input": "2022-02-06T18:36:02.095907Z",
     "iopub.status.busy": "2022-02-06T18:36:02.095229Z",
     "iopub.status.idle": "2022-02-06T18:36:02.098147Z",
     "shell.execute_reply": "2022-02-06T18:36:02.097617Z",
     "shell.execute_reply.started": "2022-02-06T18:00:04.599486Z"
    },
    "papermill": {
     "duration": 0.026088,
     "end_time": "2022-02-06T18:36:02.098286",
     "exception": false,
     "start_time": "2022-02-06T18:36:02.072198",
     "status": "completed"
    },
    "tags": []
   },
   "outputs": [],
   "source": [
    "# Splitting the dataset into train and validation"
   ]
  },
  {
   "cell_type": "code",
   "execution_count": 14,
   "id": "95235b17",
   "metadata": {
    "execution": {
     "iopub.execute_input": "2022-02-06T18:36:02.152294Z",
     "iopub.status.busy": "2022-02-06T18:36:02.151634Z",
     "iopub.status.idle": "2022-02-06T18:36:02.196319Z",
     "shell.execute_reply": "2022-02-06T18:36:02.195756Z",
     "shell.execute_reply.started": "2022-02-06T18:00:06.630305Z"
    },
    "papermill": {
     "duration": 0.079353,
     "end_time": "2022-02-06T18:36:02.196481",
     "exception": false,
     "start_time": "2022-02-06T18:36:02.117128",
     "status": "completed"
    },
    "tags": []
   },
   "outputs": [],
   "source": [
    "image_ids = train_df['image_id'].unique()\n",
    "valid_ids = image_ids[-665:]\n",
    "train_ids = image_ids[:-665]\n",
    "\n",
    "valid_df = train_df[train_df['image_id'].isin(valid_ids)]\n",
    "train_df = train_df[train_df['image_id'].isin(train_ids)]\n"
   ]
  },
  {
   "cell_type": "code",
   "execution_count": 15,
   "id": "98672fd4",
   "metadata": {
    "execution": {
     "iopub.execute_input": "2022-02-06T18:36:02.239168Z",
     "iopub.status.busy": "2022-02-06T18:36:02.238548Z",
     "iopub.status.idle": "2022-02-06T18:36:02.241120Z",
     "shell.execute_reply": "2022-02-06T18:36:02.240639Z",
     "shell.execute_reply.started": "2022-02-06T18:00:07.240245Z"
    },
    "papermill": {
     "duration": 0.025781,
     "end_time": "2022-02-06T18:36:02.241256",
     "exception": false,
     "start_time": "2022-02-06T18:36:02.215475",
     "status": "completed"
    },
    "tags": []
   },
   "outputs": [],
   "source": [
    "#Apply transform to image \n",
    "trans = transforms.Compose([transforms.ToTensor()])"
   ]
  },
  {
   "cell_type": "markdown",
   "id": "e1f72f4f",
   "metadata": {
    "papermill": {
     "duration": 0.018393,
     "end_time": "2022-02-06T18:36:02.278212",
     "exception": false,
     "start_time": "2022-02-06T18:36:02.259819",
     "status": "completed"
    },
    "tags": []
   },
   "source": [
    "Creating a Custom Dataset\n"
   ]
  },
  {
   "cell_type": "code",
   "execution_count": 16,
   "id": "b3ae4ca9",
   "metadata": {
    "execution": {
     "iopub.execute_input": "2022-02-06T18:36:02.319902Z",
     "iopub.status.busy": "2022-02-06T18:36:02.319200Z",
     "iopub.status.idle": "2022-02-06T18:36:02.334102Z",
     "shell.execute_reply": "2022-02-06T18:36:02.333582Z",
     "shell.execute_reply.started": "2022-02-06T18:28:52.175671Z"
    },
    "papermill": {
     "duration": 0.036958,
     "end_time": "2022-02-06T18:36:02.334244",
     "exception": false,
     "start_time": "2022-02-06T18:36:02.297286",
     "status": "completed"
    },
    "tags": []
   },
   "outputs": [],
   "source": [
    "class WheatDataset(Dataset):\n",
    "    \n",
    "    def __init__(self, dataframe, image_dir, transforms=None, train=True):\n",
    "        super().__init__()\n",
    "        \n",
    "        self.image_ids = dataframe['image_id'].unique()\n",
    "        self.df = dataframe\n",
    "        self.image_dir = image_dir\n",
    "        self.transforms = transforms\n",
    "        self.train = train\n",
    "        \n",
    "    def __len__(self) -> int:\n",
    "        return self.image_ids.shape[0]   #return number of rows\n",
    "    \n",
    "    def __getitem__(self, index: int):\n",
    "        image_id = self.image_ids[index]\n",
    "        image = cv2.imread(f'{self.image_dir}/{image_id}.jpg', cv2.IMREAD_COLOR)\n",
    "        IMAGE = cv2.cvtColor(image, cv2.COLOR_BGR2RGB).astype(np.float32)\n",
    "        image /= 255.0\n",
    "        \n",
    "        if self.transforms is not None:  # Apply transformation\n",
    "            image = self.transforms(image)\n",
    "        if(self.train==False): #For test data\n",
    "            return image, image_id\n",
    "        #Else for train and validation data\n",
    "        records = self.df[self.df['image_id'] == image_id]\n",
    "        boxes = records[['x', 'y', 'w', 'h']].values\n",
    "        boxes[:, 2] = boxes[:, 0] + boxes[:, 2]\n",
    "        boxes[:, 3] = boxes[:, 1] + boxes[:, 2]\n",
    "        boxes = torch.as_tensor(boxes, dtype=torch.float32)\n",
    "        \n",
    "        area = (boxes[:, 3] - boxes[:, 1]) * (bpxes[:, 2] - boxes[:, 0])\n",
    "        area = torch.as_tensor(area, dtype=torch.float32)\n",
    "        \n",
    "        #There is only one class\n",
    "        labels = torch.ones((records.shape[0],), dtype=torch.int64)\n",
    "        \n",
    "        #If all instances are not crowded\n",
    "        iscrowd = torch.zeros((records.shape[0],), dtype=torch.int64)\n",
    "        \n",
    "        target = {}\n",
    "        target['boxes'] = boxes\n",
    "        target['labels'] = labels\n",
    "        target['image_id'] = torch.tensor([index])\n",
    "        target['area'] = area\n",
    "        target['iscrowd'] = iscrowd\n",
    "        \n",
    "        return image, target, image_id"
   ]
  },
  {
   "cell_type": "code",
   "execution_count": 17,
   "id": "c329c80e",
   "metadata": {
    "execution": {
     "iopub.execute_input": "2022-02-06T18:36:02.376117Z",
     "iopub.status.busy": "2022-02-06T18:36:02.374728Z",
     "iopub.status.idle": "2022-02-06T18:36:02.378944Z",
     "shell.execute_reply": "2022-02-06T18:36:02.378287Z",
     "shell.execute_reply.started": "2022-02-06T18:33:50.243151Z"
    },
    "papermill": {
     "duration": 0.026255,
     "end_time": "2022-02-06T18:36:02.379080",
     "exception": false,
     "start_time": "2022-02-06T18:36:02.352825",
     "status": "completed"
    },
    "tags": []
   },
   "outputs": [],
   "source": [
    "train_dir = \"../input/global-wheat-detection/train\"\n",
    "test_dir = \"../input/global-wheat-detection/test\""
   ]
  },
  {
   "cell_type": "code",
   "execution_count": 18,
   "id": "680a4106",
   "metadata": {
    "execution": {
     "iopub.execute_input": "2022-02-06T18:36:02.419983Z",
     "iopub.status.busy": "2022-02-06T18:36:02.419332Z",
     "iopub.status.idle": "2022-02-06T18:36:02.462725Z",
     "shell.execute_reply": "2022-02-06T18:36:02.462062Z",
     "shell.execute_reply.started": "2022-02-02T06:18:35.490961Z"
    },
    "papermill": {
     "duration": 0.0652,
     "end_time": "2022-02-06T18:36:02.462877",
     "exception": false,
     "start_time": "2022-02-06T18:36:02.397677",
     "status": "completed"
    },
    "tags": []
   },
   "outputs": [],
   "source": [
    "class Averager:      ##Return the average loss \n",
    "    def __init__(self):\n",
    "        self.current_total = 0.0\n",
    "        self.iterations = 0.0\n",
    "\n",
    "    def send(self, value):\n",
    "        self.current_total += value\n",
    "        self.iterations += 1\n",
    "\n",
    "    @property\n",
    "    def value(self):\n",
    "        if self.iterations == 0:\n",
    "            return 0\n",
    "        else:\n",
    "            return 1.0 * self.current_total / self.iterations\n",
    "\n",
    "    def reset(self):\n",
    "        self.current_total = 0.0\n",
    "        self.iterations = 0.0\n",
    "        \n",
    "        \n",
    "def collate_fn(batch):\n",
    "    return tuple(zip(*batch))\n",
    "\n",
    "train_dataset = WheatDataset(train_df, train_dir, trans,True)\n",
    "valid_dataset = WheatDataset(valid_df, train_dir, trans,True)\n",
    "\n",
    "\n",
    "# split the dataset in train and test set\n",
    "indices = torch.randperm(len(train_dataset)).tolist()\n",
    "\n",
    "train_data_loader = DataLoader(\n",
    "    train_dataset,\n",
    "    batch_size=16,\n",
    "    shuffle=False,\n",
    "    num_workers=4,\n",
    "    collate_fn=collate_fn\n",
    ")\n",
    "\n",
    "valid_data_loader = DataLoader(\n",
    "    valid_dataset,\n",
    "    batch_size=8,\n",
    "    shuffle=False,\n",
    "    num_workers=4,\n",
    "    collate_fn=collate_fn\n",
    ")\n",
    "\n",
    "#device = torch.device('cuda') if torch.cuda.is_available() else torch.device('cpu')"
   ]
  },
  {
   "cell_type": "code",
   "execution_count": null,
   "id": "3d53af98",
   "metadata": {
    "papermill": {
     "duration": 0.018407,
     "end_time": "2022-02-06T18:36:02.500056",
     "exception": false,
     "start_time": "2022-02-06T18:36:02.481649",
     "status": "completed"
    },
    "tags": []
   },
   "outputs": [],
   "source": []
  }
 ],
 "metadata": {
  "kernelspec": {
   "display_name": "Python 3",
   "language": "python",
   "name": "python3"
  },
  "language_info": {
   "codemirror_mode": {
    "name": "ipython",
    "version": 3
   },
   "file_extension": ".py",
   "mimetype": "text/x-python",
   "name": "python",
   "nbconvert_exporter": "python",
   "pygments_lexer": "ipython3",
   "version": "3.7.12"
  },
  "papermill": {
   "default_parameters": {},
   "duration": 15.796539,
   "end_time": "2022-02-06T18:36:03.330895",
   "environment_variables": {},
   "exception": null,
   "input_path": "__notebook__.ipynb",
   "output_path": "__notebook__.ipynb",
   "parameters": {},
   "start_time": "2022-02-06T18:35:47.534356",
   "version": "2.3.3"
  }
 },
 "nbformat": 4,
 "nbformat_minor": 5
}
